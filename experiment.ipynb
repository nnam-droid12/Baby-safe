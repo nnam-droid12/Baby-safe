{
 "cells": [
  {
   "cell_type": "code",
   "execution_count": 54,
   "metadata": {},
   "outputs": [],
   "source": [
    "import numpy as np\n",
    "import pandas as pd\n",
    "import matplotlib.pyplot as plt\n",
    "import seaborn as sns"
   ]
  },
  {
   "cell_type": "code",
   "execution_count": 55,
   "metadata": {},
   "outputs": [],
   "source": [
    "sns.set_style('whitegrid')"
   ]
  },
  {
   "cell_type": "code",
   "execution_count": 56,
   "metadata": {},
   "outputs": [],
   "source": [
    "data = pd.read_csv('preterm-and-very-preterm-births-by-raceethnicity-2010-2018.csv')"
   ]
  },
  {
   "cell_type": "code",
   "execution_count": 57,
   "metadata": {},
   "outputs": [
    {
     "name": "stdout",
     "output_type": "stream",
     "text": [
      "<class 'pandas.core.frame.DataFrame'>\n",
      "RangeIndex: 162 entries, 0 to 161\n",
      "Data columns (total 8 columns):\n",
      " #   Column          Non-Null Count  Dtype  \n",
      "---  ------          --------------  -----  \n",
      " 0   Year            162 non-null    int64  \n",
      " 1   Race/Ethnicity  162 non-null    object \n",
      " 2   Birth Type      162 non-null    object \n",
      " 3   Total Births    162 non-null    int64  \n",
      " 4   Events          162 non-null    int64  \n",
      " 5   Percent         162 non-null    float64\n",
      " 6   Upper 95% CI    162 non-null    float64\n",
      " 7   Lower 95% CI    162 non-null    float64\n",
      "dtypes: float64(3), int64(3), object(2)\n",
      "memory usage: 10.2+ KB\n"
     ]
    }
   ],
   "source": [
    "data.info()"
   ]
  },
  {
   "cell_type": "code",
   "execution_count": 58,
   "metadata": {},
   "outputs": [
    {
     "data": {
      "text/html": [
       "<div>\n",
       "<style scoped>\n",
       "    .dataframe tbody tr th:only-of-type {\n",
       "        vertical-align: middle;\n",
       "    }\n",
       "\n",
       "    .dataframe tbody tr th {\n",
       "        vertical-align: top;\n",
       "    }\n",
       "\n",
       "    .dataframe thead th {\n",
       "        text-align: right;\n",
       "    }\n",
       "</style>\n",
       "<table border=\"1\" class=\"dataframe\">\n",
       "  <thead>\n",
       "    <tr style=\"text-align: right;\">\n",
       "      <th></th>\n",
       "      <th>Year</th>\n",
       "      <th>Race/Ethnicity</th>\n",
       "      <th>Birth Type</th>\n",
       "      <th>Total Births</th>\n",
       "      <th>Events</th>\n",
       "      <th>Percent</th>\n",
       "      <th>Upper 95% CI</th>\n",
       "      <th>Lower 95% CI</th>\n",
       "    </tr>\n",
       "  </thead>\n",
       "  <tbody>\n",
       "    <tr>\n",
       "      <th>0</th>\n",
       "      <td>2010</td>\n",
       "      <td>African-American</td>\n",
       "      <td>Preterm Births</td>\n",
       "      <td>27634</td>\n",
       "      <td>3441</td>\n",
       "      <td>12.5</td>\n",
       "      <td>12.8</td>\n",
       "      <td>12.1</td>\n",
       "    </tr>\n",
       "    <tr>\n",
       "      <th>1</th>\n",
       "      <td>2010</td>\n",
       "      <td>African-American</td>\n",
       "      <td>Very Preterm Births</td>\n",
       "      <td>27634</td>\n",
       "      <td>731</td>\n",
       "      <td>2.6</td>\n",
       "      <td>2.8</td>\n",
       "      <td>2.5</td>\n",
       "    </tr>\n",
       "    <tr>\n",
       "      <th>2</th>\n",
       "      <td>2011</td>\n",
       "      <td>African-American</td>\n",
       "      <td>Preterm Births</td>\n",
       "      <td>26991</td>\n",
       "      <td>3241</td>\n",
       "      <td>12.0</td>\n",
       "      <td>12.4</td>\n",
       "      <td>11.6</td>\n",
       "    </tr>\n",
       "    <tr>\n",
       "      <th>3</th>\n",
       "      <td>2011</td>\n",
       "      <td>African-American</td>\n",
       "      <td>Very Preterm Births</td>\n",
       "      <td>26991</td>\n",
       "      <td>729</td>\n",
       "      <td>2.7</td>\n",
       "      <td>2.9</td>\n",
       "      <td>2.5</td>\n",
       "    </tr>\n",
       "    <tr>\n",
       "      <th>4</th>\n",
       "      <td>2012</td>\n",
       "      <td>African-American</td>\n",
       "      <td>Preterm Births</td>\n",
       "      <td>26446</td>\n",
       "      <td>3226</td>\n",
       "      <td>12.2</td>\n",
       "      <td>12.6</td>\n",
       "      <td>11.8</td>\n",
       "    </tr>\n",
       "  </tbody>\n",
       "</table>\n",
       "</div>"
      ],
      "text/plain": [
       "   Year    Race/Ethnicity           Birth Type  Total Births  Events  Percent  \\\n",
       "0  2010  African-American       Preterm Births         27634    3441     12.5   \n",
       "1  2010  African-American  Very Preterm Births         27634     731      2.6   \n",
       "2  2011  African-American       Preterm Births         26991    3241     12.0   \n",
       "3  2011  African-American  Very Preterm Births         26991     729      2.7   \n",
       "4  2012  African-American       Preterm Births         26446    3226     12.2   \n",
       "\n",
       "   Upper 95% CI  Lower 95% CI  \n",
       "0          12.8          12.1  \n",
       "1           2.8           2.5  \n",
       "2          12.4          11.6  \n",
       "3           2.9           2.5  \n",
       "4          12.6          11.8  "
      ]
     },
     "execution_count": 58,
     "metadata": {},
     "output_type": "execute_result"
    }
   ],
   "source": [
    "data.head()"
   ]
  },
  {
   "cell_type": "code",
   "execution_count": 59,
   "metadata": {},
   "outputs": [
    {
     "data": {
      "text/plain": [
       "American Indian     18\n",
       "Multi-Race          18\n",
       "Asian               18\n",
       "Pacific Islander    18\n",
       "TOTAL               18\n",
       "African-American    18\n",
       "Unknown             18\n",
       "Hispanic            18\n",
       "White               14\n",
       "White/Other          4\n",
       "Name: Race/Ethnicity, dtype: int64"
      ]
     },
     "execution_count": 59,
     "metadata": {},
     "output_type": "execute_result"
    }
   ],
   "source": [
    "data['Race/Ethnicity'].value_counts()"
   ]
  },
  {
   "cell_type": "code",
   "execution_count": 60,
   "metadata": {},
   "outputs": [
    {
     "data": {
      "text/plain": [
       "Very Preterm Births    81\n",
       "Preterm Births         81\n",
       "Name: Birth Type, dtype: int64"
      ]
     },
     "execution_count": 60,
     "metadata": {},
     "output_type": "execute_result"
    }
   ],
   "source": [
    "data['Birth Type'].value_counts()"
   ]
  },
  {
   "cell_type": "code",
   "execution_count": 61,
   "metadata": {},
   "outputs": [
    {
     "data": {
      "text/plain": [
       "Year              0\n",
       "Race/Ethnicity    0\n",
       "Birth Type        0\n",
       "Total Births      0\n",
       "Events            0\n",
       "Percent           0\n",
       "Upper 95% CI      0\n",
       "Lower 95% CI      0\n",
       "dtype: int64"
      ]
     },
     "execution_count": 61,
     "metadata": {},
     "output_type": "execute_result"
    }
   ],
   "source": [
    "data.isna().sum()"
   ]
  },
  {
   "cell_type": "code",
   "execution_count": 62,
   "metadata": {},
   "outputs": [],
   "source": [
    "birth = data[\"Birth Type\"].unique()"
   ]
  },
  {
   "cell_type": "code",
   "execution_count": 63,
   "metadata": {},
   "outputs": [],
   "source": [
    "data[\"Birth Type\"] = data[\"Birth Type\"].map({\"Preterm Births\":0, \"Very Preterm Births\": 1})"
   ]
  },
  {
   "cell_type": "code",
   "execution_count": 64,
   "metadata": {},
   "outputs": [
    {
     "name": "stdout",
     "output_type": "stream",
     "text": [
      "<class 'pandas.core.frame.DataFrame'>\n",
      "RangeIndex: 162 entries, 0 to 161\n",
      "Data columns (total 8 columns):\n",
      " #   Column          Non-Null Count  Dtype  \n",
      "---  ------          --------------  -----  \n",
      " 0   Year            162 non-null    int64  \n",
      " 1   Race/Ethnicity  162 non-null    object \n",
      " 2   Birth Type      162 non-null    int64  \n",
      " 3   Total Births    162 non-null    int64  \n",
      " 4   Events          162 non-null    int64  \n",
      " 5   Percent         162 non-null    float64\n",
      " 6   Upper 95% CI    162 non-null    float64\n",
      " 7   Lower 95% CI    162 non-null    float64\n",
      "dtypes: float64(3), int64(4), object(1)\n",
      "memory usage: 10.2+ KB\n"
     ]
    }
   ],
   "source": [
    "data.info()"
   ]
  },
  {
   "cell_type": "code",
   "execution_count": 65,
   "metadata": {},
   "outputs": [],
   "source": [
    "from sklearn.preprocessing import LabelEncoder, StandardScaler\n",
    "\n",
    "label = LabelEncoder()"
   ]
  },
  {
   "cell_type": "code",
   "execution_count": 66,
   "metadata": {},
   "outputs": [],
   "source": [
    "data[\"Race/Ethnicity\"] = label.fit_transform(data[\"Race/Ethnicity\"])"
   ]
  },
  {
   "cell_type": "code",
   "execution_count": 67,
   "metadata": {},
   "outputs": [
    {
     "name": "stdout",
     "output_type": "stream",
     "text": [
      "<class 'pandas.core.frame.DataFrame'>\n",
      "RangeIndex: 162 entries, 0 to 161\n",
      "Data columns (total 8 columns):\n",
      " #   Column          Non-Null Count  Dtype  \n",
      "---  ------          --------------  -----  \n",
      " 0   Year            162 non-null    int64  \n",
      " 1   Race/Ethnicity  162 non-null    int32  \n",
      " 2   Birth Type      162 non-null    int64  \n",
      " 3   Total Births    162 non-null    int64  \n",
      " 4   Events          162 non-null    int64  \n",
      " 5   Percent         162 non-null    float64\n",
      " 6   Upper 95% CI    162 non-null    float64\n",
      " 7   Lower 95% CI    162 non-null    float64\n",
      "dtypes: float64(3), int32(1), int64(4)\n",
      "memory usage: 9.6 KB\n"
     ]
    }
   ],
   "source": [
    "data.info()"
   ]
  },
  {
   "cell_type": "code",
   "execution_count": 68,
   "metadata": {},
   "outputs": [
    {
     "data": {
      "text/html": [
       "<div>\n",
       "<style scoped>\n",
       "    .dataframe tbody tr th:only-of-type {\n",
       "        vertical-align: middle;\n",
       "    }\n",
       "\n",
       "    .dataframe tbody tr th {\n",
       "        vertical-align: top;\n",
       "    }\n",
       "\n",
       "    .dataframe thead th {\n",
       "        text-align: right;\n",
       "    }\n",
       "</style>\n",
       "<table border=\"1\" class=\"dataframe\">\n",
       "  <thead>\n",
       "    <tr style=\"text-align: right;\">\n",
       "      <th></th>\n",
       "      <th>Year</th>\n",
       "      <th>Race/Ethnicity</th>\n",
       "      <th>Birth Type</th>\n",
       "      <th>Total Births</th>\n",
       "      <th>Events</th>\n",
       "      <th>Percent</th>\n",
       "      <th>Upper 95% CI</th>\n",
       "      <th>Lower 95% CI</th>\n",
       "    </tr>\n",
       "  </thead>\n",
       "  <tbody>\n",
       "    <tr>\n",
       "      <th>count</th>\n",
       "      <td>162.000000</td>\n",
       "      <td>162.000000</td>\n",
       "      <td>162.00000</td>\n",
       "      <td>162.000000</td>\n",
       "      <td>162.000000</td>\n",
       "      <td>162.000000</td>\n",
       "      <td>162.000000</td>\n",
       "      <td>162.000000</td>\n",
       "    </tr>\n",
       "    <tr>\n",
       "      <th>mean</th>\n",
       "      <td>2014.000000</td>\n",
       "      <td>4.024691</td>\n",
       "      <td>0.50000</td>\n",
       "      <td>108951.679012</td>\n",
       "      <td>5347.037037</td>\n",
       "      <td>5.545062</td>\n",
       "      <td>5.693827</td>\n",
       "      <td>5.438889</td>\n",
       "    </tr>\n",
       "    <tr>\n",
       "      <th>std</th>\n",
       "      <td>2.589995</td>\n",
       "      <td>2.632691</td>\n",
       "      <td>0.50155</td>\n",
       "      <td>154352.758040</td>\n",
       "      <td>10129.296371</td>\n",
       "      <td>4.141564</td>\n",
       "      <td>4.240938</td>\n",
       "      <td>4.113442</td>\n",
       "    </tr>\n",
       "    <tr>\n",
       "      <th>min</th>\n",
       "      <td>2010.000000</td>\n",
       "      <td>0.000000</td>\n",
       "      <td>0.00000</td>\n",
       "      <td>1487.000000</td>\n",
       "      <td>14.000000</td>\n",
       "      <td>0.800000</td>\n",
       "      <td>0.500000</td>\n",
       "      <td>0.700000</td>\n",
       "    </tr>\n",
       "    <tr>\n",
       "      <th>25%</th>\n",
       "      <td>2012.000000</td>\n",
       "      <td>2.000000</td>\n",
       "      <td>0.00000</td>\n",
       "      <td>9286.000000</td>\n",
       "      <td>190.250000</td>\n",
       "      <td>1.300000</td>\n",
       "      <td>1.300000</td>\n",
       "      <td>1.300000</td>\n",
       "    </tr>\n",
       "    <tr>\n",
       "      <th>50%</th>\n",
       "      <td>2014.000000</td>\n",
       "      <td>4.000000</td>\n",
       "      <td>0.50000</td>\n",
       "      <td>25160.000000</td>\n",
       "      <td>1097.500000</td>\n",
       "      <td>5.300000</td>\n",
       "      <td>5.150000</td>\n",
       "      <td>5.350000</td>\n",
       "    </tr>\n",
       "    <tr>\n",
       "      <th>75%</th>\n",
       "      <td>2016.000000</td>\n",
       "      <td>6.000000</td>\n",
       "      <td>1.00000</td>\n",
       "      <td>138373.000000</td>\n",
       "      <td>5566.000000</td>\n",
       "      <td>8.975000</td>\n",
       "      <td>8.875000</td>\n",
       "      <td>8.675000</td>\n",
       "    </tr>\n",
       "    <tr>\n",
       "      <th>max</th>\n",
       "      <td>2018.000000</td>\n",
       "      <td>9.000000</td>\n",
       "      <td>1.00000</td>\n",
       "      <td>508748.000000</td>\n",
       "      <td>43527.000000</td>\n",
       "      <td>12.700000</td>\n",
       "      <td>13.400000</td>\n",
       "      <td>12.700000</td>\n",
       "    </tr>\n",
       "  </tbody>\n",
       "</table>\n",
       "</div>"
      ],
      "text/plain": [
       "              Year  Race/Ethnicity  Birth Type   Total Births        Events  \\\n",
       "count   162.000000      162.000000   162.00000     162.000000    162.000000   \n",
       "mean   2014.000000        4.024691     0.50000  108951.679012   5347.037037   \n",
       "std       2.589995        2.632691     0.50155  154352.758040  10129.296371   \n",
       "min    2010.000000        0.000000     0.00000    1487.000000     14.000000   \n",
       "25%    2012.000000        2.000000     0.00000    9286.000000    190.250000   \n",
       "50%    2014.000000        4.000000     0.50000   25160.000000   1097.500000   \n",
       "75%    2016.000000        6.000000     1.00000  138373.000000   5566.000000   \n",
       "max    2018.000000        9.000000     1.00000  508748.000000  43527.000000   \n",
       "\n",
       "          Percent  Upper 95% CI  Lower 95% CI  \n",
       "count  162.000000    162.000000    162.000000  \n",
       "mean     5.545062      5.693827      5.438889  \n",
       "std      4.141564      4.240938      4.113442  \n",
       "min      0.800000      0.500000      0.700000  \n",
       "25%      1.300000      1.300000      1.300000  \n",
       "50%      5.300000      5.150000      5.350000  \n",
       "75%      8.975000      8.875000      8.675000  \n",
       "max     12.700000     13.400000     12.700000  "
      ]
     },
     "execution_count": 68,
     "metadata": {},
     "output_type": "execute_result"
    }
   ],
   "source": [
    "data.describe()"
   ]
  },
  {
   "cell_type": "code",
   "execution_count": 69,
   "metadata": {},
   "outputs": [],
   "source": [
    "sc = StandardScaler()\n",
    "\n",
    "X = data[[\"Year\", \"Race/Ethnicity\", \"Total Births\", \"Events\", \"Percent\", \"Upper 95% CI\", \"Lower 95% CI\"]]"
   ]
  },
  {
   "cell_type": "code",
   "execution_count": 70,
   "metadata": {},
   "outputs": [
    {
     "data": {
      "text/html": [
       "<div>\n",
       "<style scoped>\n",
       "    .dataframe tbody tr th:only-of-type {\n",
       "        vertical-align: middle;\n",
       "    }\n",
       "\n",
       "    .dataframe tbody tr th {\n",
       "        vertical-align: top;\n",
       "    }\n",
       "\n",
       "    .dataframe thead th {\n",
       "        text-align: right;\n",
       "    }\n",
       "</style>\n",
       "<table border=\"1\" class=\"dataframe\">\n",
       "  <thead>\n",
       "    <tr style=\"text-align: right;\">\n",
       "      <th></th>\n",
       "      <th>Year</th>\n",
       "      <th>Race/Ethnicity</th>\n",
       "      <th>Total Births</th>\n",
       "      <th>Events</th>\n",
       "      <th>Percent</th>\n",
       "      <th>Upper 95% CI</th>\n",
       "      <th>Lower 95% CI</th>\n",
       "    </tr>\n",
       "  </thead>\n",
       "  <tbody>\n",
       "    <tr>\n",
       "      <th>0</th>\n",
       "      <td>2010</td>\n",
       "      <td>0</td>\n",
       "      <td>27634</td>\n",
       "      <td>3441</td>\n",
       "      <td>12.5</td>\n",
       "      <td>12.8</td>\n",
       "      <td>12.1</td>\n",
       "    </tr>\n",
       "    <tr>\n",
       "      <th>1</th>\n",
       "      <td>2010</td>\n",
       "      <td>0</td>\n",
       "      <td>27634</td>\n",
       "      <td>731</td>\n",
       "      <td>2.6</td>\n",
       "      <td>2.8</td>\n",
       "      <td>2.5</td>\n",
       "    </tr>\n",
       "    <tr>\n",
       "      <th>2</th>\n",
       "      <td>2011</td>\n",
       "      <td>0</td>\n",
       "      <td>26991</td>\n",
       "      <td>3241</td>\n",
       "      <td>12.0</td>\n",
       "      <td>12.4</td>\n",
       "      <td>11.6</td>\n",
       "    </tr>\n",
       "    <tr>\n",
       "      <th>3</th>\n",
       "      <td>2011</td>\n",
       "      <td>0</td>\n",
       "      <td>26991</td>\n",
       "      <td>729</td>\n",
       "      <td>2.7</td>\n",
       "      <td>2.9</td>\n",
       "      <td>2.5</td>\n",
       "    </tr>\n",
       "    <tr>\n",
       "      <th>4</th>\n",
       "      <td>2012</td>\n",
       "      <td>0</td>\n",
       "      <td>26446</td>\n",
       "      <td>3226</td>\n",
       "      <td>12.2</td>\n",
       "      <td>12.6</td>\n",
       "      <td>11.8</td>\n",
       "    </tr>\n",
       "    <tr>\n",
       "      <th>...</th>\n",
       "      <td>...</td>\n",
       "      <td>...</td>\n",
       "      <td>...</td>\n",
       "      <td>...</td>\n",
       "      <td>...</td>\n",
       "      <td>...</td>\n",
       "      <td>...</td>\n",
       "    </tr>\n",
       "    <tr>\n",
       "      <th>157</th>\n",
       "      <td>2018</td>\n",
       "      <td>9</td>\n",
       "      <td>122346</td>\n",
       "      <td>1169</td>\n",
       "      <td>1.0</td>\n",
       "      <td>1.0</td>\n",
       "      <td>0.9</td>\n",
       "    </tr>\n",
       "    <tr>\n",
       "      <th>158</th>\n",
       "      <td>2018</td>\n",
       "      <td>7</td>\n",
       "      <td>16244</td>\n",
       "      <td>1797</td>\n",
       "      <td>11.1</td>\n",
       "      <td>11.6</td>\n",
       "      <td>10.6</td>\n",
       "    </tr>\n",
       "    <tr>\n",
       "      <th>159</th>\n",
       "      <td>2018</td>\n",
       "      <td>7</td>\n",
       "      <td>16244</td>\n",
       "      <td>346</td>\n",
       "      <td>2.1</td>\n",
       "      <td>2.4</td>\n",
       "      <td>1.9</td>\n",
       "    </tr>\n",
       "    <tr>\n",
       "      <th>160</th>\n",
       "      <td>2018</td>\n",
       "      <td>6</td>\n",
       "      <td>453926</td>\n",
       "      <td>39778</td>\n",
       "      <td>8.8</td>\n",
       "      <td>8.8</td>\n",
       "      <td>8.7</td>\n",
       "    </tr>\n",
       "    <tr>\n",
       "      <th>161</th>\n",
       "      <td>2018</td>\n",
       "      <td>6</td>\n",
       "      <td>453926</td>\n",
       "      <td>5861</td>\n",
       "      <td>1.3</td>\n",
       "      <td>1.3</td>\n",
       "      <td>1.3</td>\n",
       "    </tr>\n",
       "  </tbody>\n",
       "</table>\n",
       "<p>162 rows × 7 columns</p>\n",
       "</div>"
      ],
      "text/plain": [
       "     Year  Race/Ethnicity  Total Births  Events  Percent  Upper 95% CI  \\\n",
       "0    2010               0         27634    3441     12.5          12.8   \n",
       "1    2010               0         27634     731      2.6           2.8   \n",
       "2    2011               0         26991    3241     12.0          12.4   \n",
       "3    2011               0         26991     729      2.7           2.9   \n",
       "4    2012               0         26446    3226     12.2          12.6   \n",
       "..    ...             ...           ...     ...      ...           ...   \n",
       "157  2018               9        122346    1169      1.0           1.0   \n",
       "158  2018               7         16244    1797     11.1          11.6   \n",
       "159  2018               7         16244     346      2.1           2.4   \n",
       "160  2018               6        453926   39778      8.8           8.8   \n",
       "161  2018               6        453926    5861      1.3           1.3   \n",
       "\n",
       "     Lower 95% CI  \n",
       "0            12.1  \n",
       "1             2.5  \n",
       "2            11.6  \n",
       "3             2.5  \n",
       "4            11.8  \n",
       "..            ...  \n",
       "157           0.9  \n",
       "158          10.6  \n",
       "159           1.9  \n",
       "160           8.7  \n",
       "161           1.3  \n",
       "\n",
       "[162 rows x 7 columns]"
      ]
     },
     "execution_count": 70,
     "metadata": {},
     "output_type": "execute_result"
    }
   ],
   "source": [
    "X"
   ]
  },
  {
   "cell_type": "code",
   "execution_count": 71,
   "metadata": {},
   "outputs": [],
   "source": [
    "Y = data[\"Birth Type\"]"
   ]
  },
  {
   "cell_type": "code",
   "execution_count": 72,
   "metadata": {},
   "outputs": [],
   "source": [
    "X_scaled = sc.fit_transform(X)"
   ]
  },
  {
   "cell_type": "code",
   "execution_count": 73,
   "metadata": {},
   "outputs": [
    {
     "data": {
      "text/plain": [
       "(162, 7)"
      ]
     },
     "execution_count": 73,
     "metadata": {},
     "output_type": "execute_result"
    }
   ],
   "source": [
    "X_scaled.shape"
   ]
  },
  {
   "cell_type": "code",
   "execution_count": 74,
   "metadata": {},
   "outputs": [],
   "source": [
    "from sklearn.model_selection import train_test_split"
   ]
  },
  {
   "cell_type": "code",
   "execution_count": 75,
   "metadata": {},
   "outputs": [],
   "source": [
    "X_train, X_test, y_train, y_test = train_test_split(X_scaled,Y, test_size=0.25, shuffle=True)"
   ]
  },
  {
   "cell_type": "code",
   "execution_count": 76,
   "metadata": {},
   "outputs": [
    {
     "data": {
      "text/plain": [
       "(121, 7)"
      ]
     },
     "execution_count": 76,
     "metadata": {},
     "output_type": "execute_result"
    }
   ],
   "source": [
    "X_train.shape"
   ]
  },
  {
   "cell_type": "code",
   "execution_count": 77,
   "metadata": {},
   "outputs": [
    {
     "data": {
      "text/plain": [
       "(41, 7)"
      ]
     },
     "execution_count": 77,
     "metadata": {},
     "output_type": "execute_result"
    }
   ],
   "source": [
    "X_test.shape"
   ]
  },
  {
   "cell_type": "code",
   "execution_count": 78,
   "metadata": {},
   "outputs": [
    {
     "data": {
      "text/plain": [
       "((41,), (121,))"
      ]
     },
     "execution_count": 78,
     "metadata": {},
     "output_type": "execute_result"
    }
   ],
   "source": [
    "y_test.shape, y_train.shape"
   ]
  },
  {
   "cell_type": "code",
   "execution_count": 79,
   "metadata": {},
   "outputs": [],
   "source": [
    "from sklearn.tree import DecisionTreeClassifier"
   ]
  },
  {
   "cell_type": "code",
   "execution_count": 80,
   "metadata": {},
   "outputs": [],
   "source": [
    "dc = DecisionTreeClassifier(max_depth=3)"
   ]
  },
  {
   "cell_type": "code",
   "execution_count": 81,
   "metadata": {},
   "outputs": [
    {
     "data": {
      "text/plain": [
       "DecisionTreeClassifier(max_depth=3)"
      ]
     },
     "execution_count": 81,
     "metadata": {},
     "output_type": "execute_result"
    }
   ],
   "source": [
    "dc.fit(X_train, y_train)"
   ]
  },
  {
   "cell_type": "code",
   "execution_count": 82,
   "metadata": {},
   "outputs": [],
   "source": [
    "pred = dc.predict(X_test)"
   ]
  },
  {
   "cell_type": "code",
   "execution_count": 83,
   "metadata": {},
   "outputs": [
    {
     "data": {
      "text/plain": [
       "1.0"
      ]
     },
     "execution_count": 83,
     "metadata": {},
     "output_type": "execute_result"
    }
   ],
   "source": [
    "dc.score(X_test, y_test)"
   ]
  },
  {
   "cell_type": "code",
   "execution_count": 84,
   "metadata": {},
   "outputs": [],
   "source": [
    "from sklearn.metrics import roc_auc_score"
   ]
  },
  {
   "cell_type": "code",
   "execution_count": 85,
   "metadata": {},
   "outputs": [
    {
     "data": {
      "text/plain": [
       "1.0"
      ]
     },
     "execution_count": 85,
     "metadata": {},
     "output_type": "execute_result"
    }
   ],
   "source": [
    "roc_auc_score(y_test, pred)"
   ]
  },
  {
   "cell_type": "code",
   "execution_count": 86,
   "metadata": {},
   "outputs": [],
   "source": [
    "from joblib import dump"
   ]
  },
  {
   "cell_type": "code",
   "execution_count": 87,
   "metadata": {},
   "outputs": [
    {
     "data": {
      "text/plain": [
       "['model.pkl']"
      ]
     },
     "execution_count": 87,
     "metadata": {},
     "output_type": "execute_result"
    }
   ],
   "source": [
    "dump(dc, \"model.pkl\")"
   ]
  },
  {
   "cell_type": "code",
   "execution_count": null,
   "metadata": {},
   "outputs": [],
   "source": []
  }
 ],
 "metadata": {
  "interpreter": {
   "hash": "c8d66f00836623ad9c59f7bb810fc52d07b4680f1b7e2ac0665d76e452313fbf"
  },
  "kernelspec": {
   "display_name": "Python 3.9.3 64-bit",
   "name": "python3"
  },
  "language_info": {
   "codemirror_mode": {
    "name": "ipython",
    "version": 3
   },
   "file_extension": ".py",
   "mimetype": "text/x-python",
   "name": "python",
   "nbconvert_exporter": "python",
   "pygments_lexer": "ipython3",
   "version": "3.9.3"
  },
  "orig_nbformat": 4
 },
 "nbformat": 4,
 "nbformat_minor": 2
}
